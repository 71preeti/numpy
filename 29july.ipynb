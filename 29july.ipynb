{
 "cells": [
  {
   "cell_type": "code",
   "execution_count": 5,
   "metadata": {},
   "outputs": [
    {
     "data": {
      "text/plain": [
       "'2.0.1'"
      ]
     },
     "execution_count": 5,
     "metadata": {},
     "output_type": "execute_result"
    }
   ],
   "source": [
    "import numpy as np\n",
    "np.__version__\n"
   ]
  },
  {
   "cell_type": "code",
   "execution_count": 6,
   "metadata": {},
   "outputs": [
    {
     "data": {
      "text/plain": [
       "array([ 10,  20,  30,  40,  50, 569])"
      ]
     },
     "execution_count": 6,
     "metadata": {},
     "output_type": "execute_result"
    }
   ],
   "source": [
    "arr=np.array([10,20,30,40,50,569])        # homogeneous array\n",
    "arr"
   ]
  },
  {
   "cell_type": "code",
   "execution_count": 7,
   "metadata": {},
   "outputs": [
    {
     "data": {
      "text/plain": [
       "numpy.ndarray"
      ]
     },
     "execution_count": 7,
     "metadata": {},
     "output_type": "execute_result"
    }
   ],
   "source": [
    "type(arr)"
   ]
  },
  {
   "cell_type": "code",
   "execution_count": 8,
   "metadata": {},
   "outputs": [
    {
     "data": {
      "text/plain": [
       "1"
      ]
     },
     "execution_count": 8,
     "metadata": {},
     "output_type": "execute_result"
    }
   ],
   "source": [
    "arr.ndim"
   ]
  },
  {
   "cell_type": "code",
   "execution_count": 9,
   "metadata": {},
   "outputs": [
    {
     "data": {
      "text/plain": [
       "6"
      ]
     },
     "execution_count": 9,
     "metadata": {},
     "output_type": "execute_result"
    }
   ],
   "source": [
    "arr.size      "
   ]
  },
  {
   "cell_type": "code",
   "execution_count": 10,
   "metadata": {},
   "outputs": [
    {
     "data": {
      "text/plain": [
       "6"
      ]
     },
     "execution_count": 10,
     "metadata": {},
     "output_type": "execute_result"
    }
   ],
   "source": [
    "len(arr)"
   ]
  },
  {
   "cell_type": "code",
   "execution_count": 11,
   "metadata": {},
   "outputs": [
    {
     "data": {
      "text/plain": [
       "dtype('int64')"
      ]
     },
     "execution_count": 11,
     "metadata": {},
     "output_type": "execute_result"
    }
   ],
   "source": [
    "arr.dtype"
   ]
  },
  {
   "cell_type": "code",
   "execution_count": 12,
   "metadata": {},
   "outputs": [
    {
     "data": {
      "text/plain": [
       "array(['10.1', '10', '20', '200', 'ram'], dtype='<U32')"
      ]
     },
     "execution_count": 12,
     "metadata": {},
     "output_type": "execute_result"
    }
   ],
   "source": [
    "arr1=np.array([10.10,10,20,200,\"ram\"])         # all items become string by adding a string\n",
    "arr1"
   ]
  },
  {
   "cell_type": "code",
   "execution_count": 13,
   "metadata": {},
   "outputs": [
    {
     "data": {
      "text/plain": [
       "dtype('float64')"
      ]
     },
     "execution_count": 13,
     "metadata": {},
     "output_type": "execute_result"
    }
   ],
   "source": [
    "arr2=np.array([10.10,20,30,40,50.6])    # on float value ki bjh se all item become float so hume same datatype item rkhne h \n",
    "arr2\n",
    "arr2.dtype"
   ]
  },
  {
   "cell_type": "code",
   "execution_count": 14,
   "metadata": {},
   "outputs": [
    {
     "data": {
      "text/plain": [
       "array([ 10,  20,  30,  40,  50, 569])"
      ]
     },
     "execution_count": 14,
     "metadata": {},
     "output_type": "execute_result"
    }
   ],
   "source": [
    "arr        #all item are in index position "
   ]
  },
  {
   "cell_type": "code",
   "execution_count": 15,
   "metadata": {},
   "outputs": [
    {
     "data": {
      "text/plain": [
       "np.int64(30)"
      ]
     },
     "execution_count": 15,
     "metadata": {},
     "output_type": "execute_result"
    }
   ],
   "source": [
    "arr[2]"
   ]
  },
  {
   "cell_type": "code",
   "execution_count": 16,
   "metadata": {},
   "outputs": [
    {
     "data": {
      "text/plain": [
       "array([10, 20, 30, 40])"
      ]
     },
     "execution_count": 16,
     "metadata": {},
     "output_type": "execute_result"
    }
   ],
   "source": [
    "arr[:--4]"
   ]
  },
  {
   "cell_type": "code",
   "execution_count": 17,
   "metadata": {},
   "outputs": [
    {
     "data": {
      "text/plain": [
       "array([], dtype=int64)"
      ]
     },
     "execution_count": 17,
     "metadata": {},
     "output_type": "execute_result"
    }
   ],
   "source": [
    "arr[-1:-4]"
   ]
  },
  {
   "cell_type": "code",
   "execution_count": 18,
   "metadata": {},
   "outputs": [
    {
     "data": {
      "text/plain": [
       "array([ 40,  50, 569])"
      ]
     },
     "execution_count": 18,
     "metadata": {},
     "output_type": "execute_result"
    }
   ],
   "source": [
    "arr[3:]"
   ]
  },
  {
   "cell_type": "code",
   "execution_count": 19,
   "metadata": {},
   "outputs": [
    {
     "data": {
      "text/plain": [
       "array([ 50, 569])"
      ]
     },
     "execution_count": 19,
     "metadata": {},
     "output_type": "execute_result"
    }
   ],
   "source": [
    "arr[4:]"
   ]
  },
  {
   "cell_type": "code",
   "execution_count": 20,
   "metadata": {},
   "outputs": [
    {
     "data": {
      "text/plain": [
       "array([569,  50,  40])"
      ]
     },
     "execution_count": 20,
     "metadata": {},
     "output_type": "execute_result"
    }
   ],
   "source": [
    "arr[-1:-4:-1]"
   ]
  },
  {
   "cell_type": "code",
   "execution_count": 21,
   "metadata": {},
   "outputs": [
    {
     "data": {
      "text/plain": [
       "array([ 40,  50, 569])"
      ]
     },
     "execution_count": 21,
     "metadata": {},
     "output_type": "execute_result"
    }
   ],
   "source": [
    "arr[-3:7]"
   ]
  },
  {
   "cell_type": "code",
   "execution_count": 22,
   "metadata": {},
   "outputs": [
    {
     "data": {
      "text/plain": [
       "array([ 20,  30,  40,  50,  60, 579])"
      ]
     },
     "execution_count": 22,
     "metadata": {},
     "output_type": "execute_result"
    }
   ],
   "source": [
    "arr+10"
   ]
  },
  {
   "cell_type": "code",
   "execution_count": 23,
   "metadata": {},
   "outputs": [
    {
     "data": {
      "text/plain": [
       "array([  50,  100,  150,  200,  250, 2845])"
      ]
     },
     "execution_count": 23,
     "metadata": {},
     "output_type": "execute_result"
    }
   ],
   "source": [
    "arr*5"
   ]
  },
  {
   "cell_type": "code",
   "execution_count": 24,
   "metadata": {},
   "outputs": [
    {
     "data": {
      "text/plain": [
       "array([  2. ,   4. ,   6. ,   8. ,  10. , 113.8])"
      ]
     },
     "execution_count": 24,
     "metadata": {},
     "output_type": "execute_result"
    }
   ],
   "source": [
    "arr/5\n"
   ]
  },
  {
   "cell_type": "code",
   "execution_count": 25,
   "metadata": {},
   "outputs": [
    {
     "name": "stdout",
     "output_type": "stream",
     "text": [
      "10\n",
      "569\n",
      "719\n",
      "119.83333333333333\n",
      "35.0\n"
     ]
    }
   ],
   "source": [
    "a=min(arr)\n",
    "b=max(arr)\n",
    "c=sum(arr)\n",
    "d=np.mean(arr)\n",
    "e=np.median(arr)  \n",
    "print(a)\n",
    "print(b)\n",
    "print(c)\n",
    "print(d)\n",
    "print(e)\n"
   ]
  },
  {
   "cell_type": "code",
   "execution_count": 26,
   "metadata": {},
   "outputs": [
    {
     "data": {
      "text/plain": [
       "6"
      ]
     },
     "execution_count": 26,
     "metadata": {},
     "output_type": "execute_result"
    }
   ],
   "source": [
    "\n",
    "np.random.randint(1,9)"
   ]
  },
  {
   "cell_type": "code",
   "execution_count": 27,
   "metadata": {},
   "outputs": [
    {
     "data": {
      "text/plain": [
       "34"
      ]
     },
     "execution_count": 27,
     "metadata": {},
     "output_type": "execute_result"
    }
   ],
   "source": [
    "import random    # isme sirf do he values hoto h \n",
    "random.randint(1,100)"
   ]
  },
  {
   "cell_type": "markdown",
   "metadata": {},
   "source": [
    "  ------------------------    ASSIGNEMENT QUIZ ON ARRAY -----------------"
   ]
  },
  {
   "cell_type": "code",
   "execution_count": 28,
   "metadata": {},
   "outputs": [
    {
     "data": {
      "text/plain": [
       "array([113, 283, 148, 401, 107, 303, 130,  82, 331,  95, 319, 341, 157,\n",
       "        53, 108, 370, 351, 317, 353, 111,  74, 144, 339, 108, 449,  24,\n",
       "       217, 243, 154,  12,  24, 284,  33, 253, 238, 101, 189, 226,  69,\n",
       "       145, 298, 269, 348, 181, 127,  35, 378, 123, 303, 418, 337, 275,\n",
       "       248, 305, 193,  54, 133, 414,  90, 126, 433, 136,  96,  44, 443,\n",
       "        81, 140, 274, 126, 411, 159, 133, 265, 172, 301, 213, 145, 208,\n",
       "       349, 185, 204, 107, 368, 382,  31, 428,  97, 113, 379,  78,  44,\n",
       "       278, 235, 134, 406, 436, 230, 401, 238, 356,  99, 121, 367, 404,\n",
       "       213, 364, 133,  14, 373, 376, 444, 110,  78, 341, 213,  93, 131,\n",
       "       293, 352,  83, 211, 187,  48, 116, 249,  40, 286, 358, 289, 422,\n",
       "       314,   6, 195, 159, 319, 355, 228, 174,  61, 154, 276, 250,  22,\n",
       "       266, 127,  97,  35, 385,  93, 140, 140,  99, 404,  30, 162, 290,\n",
       "       267, 341, 143, 344, 182, 269, 280, 300, 145, 249, 303, 207, 414,\n",
       "       275, 419, 279, 334, 146,  60, 380, 164,  92, 387, 164,  28,  44,\n",
       "       242, 246, 421,  52, 125, 417, 117, 373, 349, 400, 346, 314, 249,\n",
       "       272, 158, 418, 139,  85,  67,  58,  65, 442,  93, 177, 194,  18,\n",
       "       384, 127, 218, 431, 110, 121,  47, 445, 353, 343,  40, 193, 216,\n",
       "       352, 284,  42,  28, 132, 144, 271, 375, 313, 379, 203, 389, 245,\n",
       "         5, 112,  74, 128, 101, 211,  66, 379, 449, 234,  43, 326, 182,\n",
       "       129, 265,  11, 429, 359, 345, 129, 443, 248, 246,  18, 426, 190,\n",
       "        47, 219,  69, 360, 247, 166, 303, 365, 179, 345, 209, 307, 190,\n",
       "       123,  45, 172, 144, 434,  20, 364, 226, 307, 261, 131, 388, 130,\n",
       "       219, 383, 334, 418, 223, 155, 400, 382,  51,  45, 324, 385,  22,\n",
       "       245,  70, 303,  48, 294,  43,  41, 255, 364,  19, 234, 109,  68,\n",
       "       373, 447, 446, 377,  22, 245, 263,  34, 407, 293, 114, 228, 377,\n",
       "       424, 175, 345, 380, 118, 325, 307, 403, 321, 267,  95, 342,  90,\n",
       "       161, 436, 180, 234, 349, 245,  13,  90, 304,  35,  49,  59, 258,\n",
       "       390,  81, 239, 325,  85,  21, 137, 346,  93, 415, 399, 263,  98,\n",
       "       319, 398, 407, 334, 389, 235, 356,   7, 448,  74, 332, 332, 396,\n",
       "        75, 338, 417, 297,  51,  51, 429, 254, 169, 286, 101, 412, 252,\n",
       "       268, 438, 325, 409,  83,  92,  78, 415, 252,  79, 226, 280,   8,\n",
       "       445, 427,  86, 432, 236, 221,  70, 237,  63,  64, 145, 444, 116,\n",
       "       115, 274, 173,   7, 119,  36,  40, 105,  31, 359,  78, 446, 138,\n",
       "       140, 340,  49, 325, 243, 295, 248,  84, 386,  66, 271, 310, 296,\n",
       "       407, 389,  77, 294, 346, 367,   1, 136, 147, 309, 339, 387, 297,\n",
       "       121,   1, 148,  45, 118, 276,   3,  77, 348, 420,  17, 375, 405,\n",
       "       174, 308, 346, 334, 212, 173, 185, 118, 392, 127,  32, 144,  31,\n",
       "       149, 197, 307, 269, 398, 196,  71, 289, 394, 243, 118,   6, 298,\n",
       "       160, 381, 376,  63, 257, 206], dtype=int32)"
      ]
     },
     "execution_count": 28,
     "metadata": {},
     "output_type": "execute_result"
    }
   ],
   "source": [
    "arr5=np.random.randint(1,450,500)     # isme do se jada value bho h skti h or occirence of number bhi hota h \n",
    "arr5       # try to calculate no. of item that are less than 100\n",
    "# try to calculate no. of even number \n",
    "# find mode of this arr5"
   ]
  },
  {
   "cell_type": "code",
   "execution_count": 29,
   "metadata": {},
   "outputs": [
    {
     "name": "stdout",
     "output_type": "stream",
     "text": [
      "500\n"
     ]
    }
   ],
   "source": [
    "print(arr5.size)\n",
    "\n"
   ]
  },
  {
   "cell_type": "code",
   "execution_count": 30,
   "metadata": {},
   "outputs": [
    {
     "data": {
      "text/plain": [
       "'for even_no in arr5:\\n    if even_no%2==0:\\n        print(even_no)'"
      ]
     },
     "execution_count": 30,
     "metadata": {},
     "output_type": "execute_result"
    }
   ],
   "source": [
    "'''for even_no in arr5:\n",
    "    if even_no%2==0:\n",
    "        print(even_no)'''\n",
    "        \n"
   ]
  },
  {
   "cell_type": "code",
   "execution_count": 31,
   "metadata": {},
   "outputs": [
    {
     "data": {
      "text/plain": [
       "'for lessthan_100 in arr5:\\n    if lessthan_100<100:\\n        print(lessthan_100)\\n        lessthan_100+=1\\n'"
      ]
     },
     "execution_count": 31,
     "metadata": {},
     "output_type": "execute_result"
    }
   ],
   "source": [
    " \n",
    "'''for lessthan_100 in arr5:\n",
    "    if lessthan_100<100:\n",
    "        print(lessthan_100)\n",
    "        lessthan_100+=1\n",
    "'''\n",
    "\n",
    "        "
   ]
  },
  {
   "cell_type": "code",
   "execution_count": 32,
   "metadata": {},
   "outputs": [
    {
     "data": {
      "text/plain": [
       "np.int64(234)"
      ]
     },
     "execution_count": 32,
     "metadata": {},
     "output_type": "execute_result"
    }
   ],
   "source": [
    "num_even1=np.sum(arr5%2==0)\n",
    "num_even1"
   ]
  },
  {
   "cell_type": "code",
   "execution_count": 33,
   "metadata": {},
   "outputs": [
    {
     "data": {
      "text/plain": [
       "234"
      ]
     },
     "execution_count": 33,
     "metadata": {},
     "output_type": "execute_result"
    }
   ],
   "source": [
    "num_even2=np.count_nonzero(arr5%2==0)\n",
    "num_even2"
   ]
  },
  {
   "cell_type": "code",
   "execution_count": 34,
   "metadata": {},
   "outputs": [
    {
     "name": "stdout",
     "output_type": "stream",
     "text": [
      "Even number are :  [148 130  82 108 370  74 144 108  24 154  12  24 284 238 226 298 348 378\n",
      " 418 248  54 414  90 126 136  96  44 140 274 126 172 208 204 368 382 428\n",
      "  78  44 278 134 406 436 230 238 356 404 364  14 376 444 110  78 352  48\n",
      " 116  40 286 358 422 314   6 228 174 154 276 250  22 266 140 140 404  30\n",
      " 162 290 344 182 280 300 414 334 146  60 380 164  92 164  28  44 242 246\n",
      "  52 400 346 314 272 158 418  58 442 194  18 384 218 110  40 216 352 284\n",
      "  42  28 132 144 112  74 128  66 234 326 182 248 246  18 426 190 360 166\n",
      " 190 172 144 434  20 364 226 388 130 334 418 400 382 324  22  70  48 294\n",
      " 364 234  68 446  22  34 114 228 424 380 118 342  90 436 180 234  90 304\n",
      " 258 390 346  98 398 334 356 448  74 332 332 396 338 254 286 412 252 268\n",
      " 438  92  78 252 226 280   8  86 432 236  70  64 444 116 274  36  40  78\n",
      " 446 138 140 340 248  84 386  66 310 296 294 346 136 148 118 276 348 420\n",
      " 174 308 346 334 212 118 392  32 144 398 196 394 118   6 298 160 376 206]\n",
      "Size of even numbers in aar5 : 234\n"
     ]
    }
   ],
   "source": [
    "mask=(arr5%2==0)\n",
    "num_even3=arr5[mask]\n",
    "result_size=num_even3.size\n",
    "print(\"Even number are : \",num_even3)\n",
    "print(\"Size of even numbers in aar5 :\",result_size)"
   ]
  },
  {
   "cell_type": "code",
   "execution_count": 35,
   "metadata": {},
   "outputs": [
    {
     "data": {
      "text/plain": [
       "np.int64(116)"
      ]
     },
     "execution_count": 35,
     "metadata": {},
     "output_type": "execute_result"
    }
   ],
   "source": [
    "num_lessthan_100_1=np.sum(arr5<100)\n",
    "num_lessthan_100_1"
   ]
  },
  {
   "cell_type": "code",
   "execution_count": 36,
   "metadata": {},
   "outputs": [
    {
     "data": {
      "text/plain": [
       "116"
      ]
     },
     "execution_count": 36,
     "metadata": {},
     "output_type": "execute_result"
    }
   ],
   "source": [
    "num_lessthan_100_2=np.count_nonzero(arr5<100)\n",
    "num_lessthan_100_2"
   ]
  },
  {
   "cell_type": "code",
   "execution_count": 37,
   "metadata": {},
   "outputs": [
    {
     "name": "stdout",
     "output_type": "stream",
     "text": [
      "LESS THAN 100 NUMBERS ARE AS FOLLOWS : [82 95 53 74 24 12 24 33 69 35 54 90 96 44 81 31 97 78 44 99 14 78 93 83\n",
      " 48 40  6 61 22 97 35 93 99 30 60 92 28 44 52 85 67 58 65 93 18 47 40 42\n",
      " 28  5 74 66 43 11 18 47 69 45 20 51 45 22 70 48 43 41 19 68 22 34 95 90\n",
      " 13 90 35 49 59 81 85 21 93 98  7 74 75 51 51 83 92 78 79  8 86 70 63 64\n",
      "  7 36 40 31 78 49 84 66 77  1  1 45  3 77 17 32 31 71  6 63]\n",
      "THE SIZE OF LESS THAN 100 NUMBER IN arr5 ARE AS FOLLOWS : 116\n"
     ]
    }
   ],
   "source": [
    "mask=(arr5<100)\n",
    "num_lessthan_100_3=arr5[mask]\n",
    "less_100_size=num_lessthan_100_3.size\n",
    "print(\"LESS THAN 100 NUMBERS ARE AS FOLLOWS :\",num_lessthan_100_3)\n",
    "print(\"THE SIZE OF LESS THAN 100 NUMBER IN arr5 ARE AS FOLLOWS :\",less_100_size)"
   ]
  },
  {
   "cell_type": "code",
   "execution_count": 38,
   "metadata": {},
   "outputs": [
    {
     "name": "stdout",
     "output_type": "stream",
     "text": [
      "\n"
     ]
    }
   ],
   "source": [
    "print()"
   ]
  },
  {
   "cell_type": "code",
   "execution_count": 39,
   "metadata": {},
   "outputs": [],
   "source": [
    "import statistics as st\n",
    "import numpy as np "
   ]
  },
  {
   "cell_type": "code",
   "execution_count": 47,
   "metadata": {},
   "outputs": [
    {
     "name": "stdout",
     "output_type": "stream",
     "text": [
      "303\n"
     ]
    }
   ],
   "source": [
    "mode=st.mode(arr5)\n",
    "print(mode)\n"
   ]
  },
  {
   "cell_type": "code",
   "execution_count": 41,
   "metadata": {},
   "outputs": [],
   "source": [
    "import random,string"
   ]
  },
  {
   "cell_type": "code",
   "execution_count": 42,
   "metadata": {},
   "outputs": [
    {
     "data": {
      "text/plain": [
       "'!\"#$%&\\'()*+,-./:;<=>?@[\\\\]^_`{|}~'"
      ]
     },
     "execution_count": 42,
     "metadata": {},
     "output_type": "execute_result"
    }
   ],
   "source": [
    "string.punctuation"
   ]
  },
  {
   "cell_type": "code",
   "execution_count": 43,
   "metadata": {},
   "outputs": [
    {
     "data": {
      "text/plain": [
       "'0123456789'"
      ]
     },
     "execution_count": 43,
     "metadata": {},
     "output_type": "execute_result"
    }
   ],
   "source": [
    "string.digits"
   ]
  },
  {
   "cell_type": "code",
   "execution_count": 44,
   "metadata": {},
   "outputs": [
    {
     "data": {
      "text/plain": [
       "'abcdefghijklmnopqrstuvwxyzABCDEFGHIJKLMNOPQRSTUVWXYZ0123456789!\"#$%&\\'()*+,-./:;<=>?@[\\\\]^_`{|}~'"
      ]
     },
     "execution_count": 44,
     "metadata": {},
     "output_type": "execute_result"
    }
   ],
   "source": [
    "alpha=string.ascii_letters+string.digits+string.punctuation\n",
    "alpha"
   ]
  },
  {
   "cell_type": "code",
   "execution_count": 45,
   "metadata": {},
   "outputs": [
    {
     "data": {
      "text/plain": [
       "'('"
      ]
     },
     "execution_count": 45,
     "metadata": {},
     "output_type": "execute_result"
    }
   ],
   "source": [
    "random.choice(alpha)"
   ]
  },
  {
   "cell_type": "code",
   "execution_count": 46,
   "metadata": {},
   "outputs": [
    {
     "data": {
      "text/plain": [
       "'0123456789abcdefghijklmnopqrstuvwxyzABCDEFGHIJKLMNOPQRSTUVWXYZ!\"#$%&\\'()*+,-./:;<=>?@[\\\\]^_`{|}~ \\t\\n\\r\\x0b\\x0c'"
      ]
     },
     "execution_count": 46,
     "metadata": {},
     "output_type": "execute_result"
    }
   ],
   "source": [
    "string.printable"
   ]
  },
  {
   "cell_type": "code",
   "execution_count": null,
   "metadata": {},
   "outputs": [],
   "source": []
  },
  {
   "cell_type": "code",
   "execution_count": null,
   "metadata": {},
   "outputs": [],
   "source": []
  },
  {
   "cell_type": "code",
   "execution_count": null,
   "metadata": {},
   "outputs": [],
   "source": []
  },
  {
   "cell_type": "code",
   "execution_count": null,
   "metadata": {},
   "outputs": [],
   "source": []
  },
  {
   "cell_type": "code",
   "execution_count": null,
   "metadata": {},
   "outputs": [],
   "source": []
  },
  {
   "cell_type": "code",
   "execution_count": null,
   "metadata": {},
   "outputs": [],
   "source": []
  }
 ],
 "metadata": {
  "kernelspec": {
   "display_name": "Python 3",
   "language": "python",
   "name": "python3"
  },
  "language_info": {
   "codemirror_mode": {
    "name": "ipython",
    "version": 3
   },
   "file_extension": ".py",
   "mimetype": "text/x-python",
   "name": "python",
   "nbconvert_exporter": "python",
   "pygments_lexer": "ipython3",
   "version": "3.12.2"
  }
 },
 "nbformat": 4,
 "nbformat_minor": 2
}
