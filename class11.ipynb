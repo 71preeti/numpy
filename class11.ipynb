{
 "cells": [
  {
   "cell_type": "markdown",
   "metadata": {},
   "source": [
    "COPY VS VIEW () IN NUMPY:\n",
    "1.copy apka old array ka 1 new copy alg location pr bna deta h .\n",
    "2.view apka old array ko dikhata h not made a new copy on another location.\n",
    "3.if we change  old array then new copy array doesn,t change.\n",
    "4.but view  new array change .\n"
   ]
  },
  {
   "cell_type": "code",
   "execution_count": 1,
   "metadata": {},
   "outputs": [],
   "source": [
    "import numpy as np\n"
   ]
  },
  {
   "cell_type": "code",
   "execution_count": 11,
   "metadata": {},
   "outputs": [
    {
     "name": "stdout",
     "output_type": "stream",
     "text": [
      "[1 2 3 4 5 6]\n",
      "\n",
      "copy array: [1 2 3 4 5 6]\n"
     ]
    }
   ],
   "source": [
    "arr=np.array([1,2,3,4,5,6])\n",
    "print(arr)\n",
    "print()\n",
    "arr_copy=arr.copy()\n",
    "print( \"copy array:\" , arr_copy)"
   ]
  },
  {
   "cell_type": "code",
   "execution_count": 12,
   "metadata": {},
   "outputs": [
    {
     "name": "stdout",
     "output_type": "stream",
     "text": [
      "[ 1  2  3  4 59  6]\n",
      "arr_copy: [1 2 3 4 5 6]\n"
     ]
    }
   ],
   "source": [
    "# if we change the arr then show what changes occured means if we change arr then arr_copy not change .\n",
    "arr[4]=59\n",
    "print(arr)\n",
    "print()\n",
    "print(\"arr_copy:\", arr_copy)"
   ]
  },
  {
   "cell_type": "code",
   "execution_count": 14,
   "metadata": {},
   "outputs": [
    {
     "name": "stdout",
     "output_type": "stream",
     "text": [
      "[76 89 56 45 30]\n",
      "\n",
      "view array: [76 89 56 45 30]\n"
     ]
    }
   ],
   "source": [
    "# view ()\n",
    "arr1=np.array([76,89,56,45,30])\n",
    "print(arr1)\n",
    "print()\n",
    "arr1_view=arr1.view()\n",
    "print(\"view array:\", arr1_view)\n",
    "\n"
   ]
  },
  {
   "cell_type": "code",
   "execution_count": 15,
   "metadata": {},
   "outputs": [
    {
     "name": "stdout",
     "output_type": "stream",
     "text": [
      "[76 89 56  0 30]\n",
      "\n",
      "view array: [76 89 56  0 30]\n"
     ]
    }
   ],
   "source": [
    "arr1[3]=00   # view m agr arr1 change hua h to arr1_view bhi change hoga.\n",
    "print(arr1)\n",
    "print()\n",
    "arr1_view=arr1.view()\n",
    "print(\"view array:\", arr1_view)\n"
   ]
  },
  {
   "cell_type": "code",
   "execution_count": null,
   "metadata": {},
   "outputs": [],
   "source": []
  },
  {
   "cell_type": "code",
   "execution_count": null,
   "metadata": {},
   "outputs": [],
   "source": []
  },
  {
   "cell_type": "code",
   "execution_count": null,
   "metadata": {},
   "outputs": [],
   "source": []
  },
  {
   "cell_type": "code",
   "execution_count": null,
   "metadata": {},
   "outputs": [],
   "source": []
  },
  {
   "cell_type": "code",
   "execution_count": null,
   "metadata": {},
   "outputs": [],
   "source": []
  }
 ],
 "metadata": {
  "kernelspec": {
   "display_name": "Python 3",
   "language": "python",
   "name": "python3"
  },
  "language_info": {
   "codemirror_mode": {
    "name": "ipython",
    "version": 3
   },
   "file_extension": ".py",
   "mimetype": "text/x-python",
   "name": "python",
   "nbconvert_exporter": "python",
   "pygments_lexer": "ipython3",
   "version": "3.12.2"
  }
 },
 "nbformat": 4,
 "nbformat_minor": 2
}
