{
 "cells": [
  {
   "cell_type": "markdown",
   "metadata": {},
   "source": [
    "INSERT , APPEND AND DELETE FUNCTION IN NUMPY ARRAY:"
   ]
  },
  {
   "cell_type": "code",
   "execution_count": 11,
   "metadata": {},
   "outputs": [],
   "source": [
    "import numpy as np"
   ]
  },
  {
   "cell_type": "code",
   "execution_count": 12,
   "metadata": {},
   "outputs": [
    {
     "name": "stdout",
     "output_type": "stream",
     "text": [
      "[1 2 3 4 5]\n",
      "int64\n"
     ]
    }
   ],
   "source": [
    "arr1=np.array([1,2,3,4,5])\n",
    "print(arr1)\n",
    "print(arr1.dtype)"
   ]
  },
  {
   "cell_type": "code",
   "execution_count": 13,
   "metadata": {},
   "outputs": [
    {
     "data": {
      "text/plain": [
       "array([  1,   2, 100,   3,   4,   5])"
      ]
     },
     "execution_count": 13,
     "metadata": {},
     "output_type": "execute_result"
    }
   ],
   "source": [
    "# insert function data insert krta h according to existing array datatype .\n",
    "# insert () used to inset value have 3 parameter 1.variable name,position of value ,add value name ,isme data integer he insert hota h not float.\n",
    "i=np.insert(arr1,2,100)\n",
    "i"
   ]
  },
  {
   "cell_type": "code",
   "execution_count": 14,
   "metadata": {},
   "outputs": [
    {
     "name": "stdout",
     "output_type": "stream",
     "text": [
      "[1.2 3.4 5.6 7.8 8.9]\n",
      "\n",
      "[  1.2   3.4   5.6 100.    7.8   8.9]\n"
     ]
    }
   ],
   "source": [
    "arr2=np.array([1.2,3.4,5.6,7.8,8.9])\n",
    "print(arr2)\n",
    "print()\n",
    "i2=np.insert(arr2,3,100)  # data insert acc.to arr2 datatype\n",
    "print(i2)"
   ]
  },
  {
   "cell_type": "code",
   "execution_count": 29,
   "metadata": {},
   "outputs": [
    {
     "name": "stdout",
     "output_type": "stream",
     "text": [
      "[['a' 'b']\n",
      " ['c' 'd']]\n",
      "\n",
      "[['a' 'b']\n",
      " ['c' 'd']\n",
      " ['1' '2']]\n"
     ]
    }
   ],
   "source": [
    "# append () used to insert data at end position and insert any datatype in existing array \n",
    "arr3=np.array([['a','b'],['c','d']])\n",
    "print(arr3)\n",
    "print()\n",
    "a=np.append(arr3,[[1,2]],axis=0)\n",
    "print(a)"
   ]
  },
  {
   "cell_type": "code",
   "execution_count": 20,
   "metadata": {},
   "outputs": [
    {
     "name": "stdout",
     "output_type": "stream",
     "text": [
      "[  1   2   3 400   5   6   7]\n",
      "\n",
      "[1 2 3 5 6 7]\n"
     ]
    }
   ],
   "source": [
    "# delete used to delete item from array \n",
    "arr5=np.array([1,2,3,400,5,6,7])\n",
    "print(arr5)\n",
    "print()\n",
    "d=np.delete(arr5,3)\n",
    "print(d)"
   ]
  },
  {
   "cell_type": "code",
   "execution_count": 25,
   "metadata": {},
   "outputs": [
    {
     "name": "stdout",
     "output_type": "stream",
     "text": [
      "[[  1   2   3]\n",
      " [400   5   6]\n",
      " [  7   8   9]]\n",
      "\n",
      "[[1 2 3]\n",
      " [7 8 9]]\n"
     ]
    }
   ],
   "source": [
    "arr6=np.array([[1,2,3],[400,5,6],[7,8,9]])\n",
    "print(arr6)\n",
    "print()\n",
    "d1=np.delete(arr6,1,axis=0)\n",
    "print(d1)"
   ]
  },
  {
   "cell_type": "code",
   "execution_count": null,
   "metadata": {},
   "outputs": [],
   "source": []
  },
  {
   "cell_type": "code",
   "execution_count": null,
   "metadata": {},
   "outputs": [],
   "source": []
  },
  {
   "cell_type": "code",
   "execution_count": null,
   "metadata": {},
   "outputs": [],
   "source": []
  }
 ],
 "metadata": {
  "kernelspec": {
   "display_name": "Python 3",
   "language": "python",
   "name": "python3"
  },
  "language_info": {
   "codemirror_mode": {
    "name": "ipython",
    "version": 3
   },
   "file_extension": ".py",
   "mimetype": "text/x-python",
   "name": "python",
   "nbconvert_exporter": "python",
   "pygments_lexer": "ipython3",
   "version": "3.12.2"
  }
 },
 "nbformat": 4,
 "nbformat_minor": 2
}
