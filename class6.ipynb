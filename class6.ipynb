{
 "cells": [
  {
   "cell_type": "markdown",
   "metadata": {},
   "source": [
    "numpy arithmetic function:"
   ]
  },
  {
   "cell_type": "code",
   "execution_count": 1,
   "metadata": {},
   "outputs": [],
   "source": [
    "import numpy as np"
   ]
  },
  {
   "cell_type": "code",
   "execution_count": 7,
   "metadata": {},
   "outputs": [
    {
     "name": "stdout",
     "output_type": "stream",
     "text": [
      "10\n",
      "59\n",
      "[-0.54402111  0.91294525 -0.98803162  0.74511316  0.63673801]\n",
      "[-0.83907153  0.40808206  0.15425145 -0.66693806 -0.77108022]\n",
      "[ 10  30  60 100 159]\n",
      "0\n",
      "4\n",
      "[3.16227766 4.47213595 5.47722558 6.32455532 7.68114575]\n"
     ]
    }
   ],
   "source": [
    "arr=np.array([10,20,30,40,59])\n",
    "min=np.min(arr)\n",
    "max=np.max(arr)\n",
    "argmin=np.argmin(arr)\n",
    "argmax=np.argmax(arr)\n",
    "sqrt=np.sqrt(arr)\n",
    "cumsum=np.cumsum(arr)\n",
    "sin=np.sin(arr)\n",
    "cos=np.cos(arr)\n",
    "print(min)\n",
    "print(max)\n",
    "print(sin)\n",
    "print(cos)\n",
    "print(cumsum)\n",
    "print(argmin)\n",
    "print(argmax)\n",
    "print(sqrt)\n"
   ]
  },
  {
   "cell_type": "code",
   "execution_count": 6,
   "metadata": {},
   "outputs": [
    {
     "name": "stdout",
     "output_type": "stream",
     "text": [
      "[1 1 3 2]\n",
      "[1 1 3 2]\n"
     ]
    }
   ],
   "source": [
    "arr2d=np.array([[1,2,3,4],[10,1,30,2]])\n",
    "min_yaxis=np.min(arr2d,0)\n",
    "min_xaxis=np.min(arr2d,1)\n",
    "print(min_yaxis)\n",
    "print(min_yaxis)\n"
   ]
  },
  {
   "cell_type": "code",
   "execution_count": null,
   "metadata": {},
   "outputs": [],
   "source": []
  }
 ],
 "metadata": {
  "kernelspec": {
   "display_name": "Python 3",
   "language": "python",
   "name": "python3"
  },
  "language_info": {
   "codemirror_mode": {
    "name": "ipython",
    "version": 3
   },
   "file_extension": ".py",
   "mimetype": "text/x-python",
   "name": "python",
   "nbconvert_exporter": "python",
   "pygments_lexer": "ipython3",
   "version": "3.12.2"
  }
 },
 "nbformat": 4,
 "nbformat_minor": 2
}
