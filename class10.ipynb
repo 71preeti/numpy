{
 "cells": [
  {
   "cell_type": "markdown",
   "metadata": {},
   "source": [
    "ITERATING NUMPY ARRAYS: alg krke loop ki help se access krna\n"
   ]
  },
  {
   "cell_type": "code",
   "execution_count": 2,
   "metadata": {},
   "outputs": [],
   "source": [
    "import numpy as np"
   ]
  },
  {
   "cell_type": "code",
   "execution_count": 3,
   "metadata": {},
   "outputs": [
    {
     "name": "stdout",
     "output_type": "stream",
     "text": [
      "1\n",
      "2\n",
      "3\n",
      "4\n",
      "5\n",
      "6\n",
      "7\n"
     ]
    }
   ],
   "source": [
    "x=[1,2,3,4,5,6,7]\n",
    "for i in x:\n",
    "    print(i)"
   ]
  },
  {
   "cell_type": "code",
   "execution_count": 4,
   "metadata": {},
   "outputs": [
    {
     "name": "stdout",
     "output_type": "stream",
     "text": [
      "[9 8 6 5 4]\n",
      "\n",
      "9\n",
      "8\n",
      "6\n",
      "5\n",
      "4\n"
     ]
    }
   ],
   "source": [
    "arr= np.array([9,8,6,5,4])\n",
    "print(arr)           # iteration in 1d\n",
    "print()\n",
    "for i in arr:\n",
    "    print(i)"
   ]
  },
  {
   "cell_type": "code",
   "execution_count": 6,
   "metadata": {},
   "outputs": [
    {
     "name": "stdout",
     "output_type": "stream",
     "text": [
      "[[ 1  2  3  4  5]\n",
      " [ 6  7  8  9 12]]\n",
      "1\n",
      "2\n",
      "3\n",
      "4\n",
      "5\n",
      "6\n",
      "7\n",
      "8\n",
      "9\n",
      "12\n"
     ]
    }
   ],
   "source": [
    "# iteration in 2d \n",
    "arr1=np.array([1,2,3,4,5,6,7,8,9,12])\n",
    "reshape=arr1.reshape(2,5)\n",
    "print(reshape)\n",
    "print()\n",
    "for i in reshape:\n",
    "    for j in i:\n",
    "        print(j)"
   ]
  },
  {
   "cell_type": "code",
   "execution_count": 7,
   "metadata": {},
   "outputs": [
    {
     "name": "stdout",
     "output_type": "stream",
     "text": [
      "[[[ 1  2]\n",
      "  [ 3  4]]\n",
      "\n",
      " [[ 5  6]\n",
      "  [ 7  8]]\n",
      "\n",
      " [[ 9 12]\n",
      "  [13 14]]]\n",
      "\n",
      "1\n",
      "2\n",
      "3\n",
      "4\n",
      "5\n",
      "6\n",
      "7\n",
      "8\n",
      "9\n",
      "12\n",
      "13\n",
      "14\n"
     ]
    }
   ],
   "source": [
    "# iteration in 3d\n",
    "arr2=np.array([1,2,3,4,5,6,7,8,9,12,13,14])\n",
    "a3d=arr2.reshape(3,2,2)\n",
    "print(a3d)\n",
    "print()\n",
    "for i in a3d:\n",
    "    for j in i:\n",
    "        for k in j:\n",
    "            print(k)"
   ]
  },
  {
   "cell_type": "code",
   "execution_count": 11,
   "metadata": {},
   "outputs": [
    {
     "name": "stdout",
     "output_type": "stream",
     "text": [
      "[[[ 1  2]\n",
      "  [ 3  4]]\n",
      "\n",
      " [[ 5  6]\n",
      "  [ 7  8]]\n",
      "\n",
      " [[ 9 12]\n",
      "  [13 14]]]\n",
      "\n",
      "1\n",
      "2\n",
      "3\n",
      "4\n",
      "5\n",
      "6\n",
      "7\n",
      "8\n",
      "9\n",
      "12\n",
      "13\n",
      "14\n"
     ]
    }
   ],
   "source": [
    "# iteration through nditer function :\n",
    "print(a3d)\n",
    "print()\n",
    "\n",
    "for i in np.nditer(a3d):\n",
    "    print(i)"
   ]
  },
  {
   "cell_type": "code",
   "execution_count": 12,
   "metadata": {},
   "outputs": [
    {
     "name": "stdout",
     "output_type": "stream",
     "text": [
      "[[[ 1  2]\n",
      "  [ 3  4]]\n",
      "\n",
      " [[ 5  6]\n",
      "  [ 7  8]]\n",
      "\n",
      " [[ 9 12]\n",
      "  [13 14]]]\n",
      "\n",
      "np.bytes_(b'1')\n",
      "np.bytes_(b'2')\n",
      "np.bytes_(b'3')\n",
      "np.bytes_(b'4')\n",
      "np.bytes_(b'5')\n",
      "np.bytes_(b'6')\n",
      "np.bytes_(b'7')\n",
      "np.bytes_(b'8')\n",
      "np.bytes_(b'9')\n",
      "np.bytes_(b'12')\n",
      "np.bytes_(b'13')\n",
      "np.bytes_(b'14')\n"
     ]
    }
   ],
   "source": [
    "# change datatype of existing array using flag and dtype\n",
    "print(a3d)\n",
    "print()\n",
    "\n",
    "for i in np.nditer(a3d , flags=['buffered'],op_dtypes=['S']):\n",
    "    print(i)"
   ]
  },
  {
   "cell_type": "code",
   "execution_count": 13,
   "metadata": {},
   "outputs": [
    {
     "name": "stdout",
     "output_type": "stream",
     "text": [
      "[[[ 1  2]\n",
      "  [ 3  4]]\n",
      "\n",
      " [[ 5  6]\n",
      "  [ 7  8]]\n",
      "\n",
      " [[ 9 12]\n",
      "  [13 14]]]\n",
      "\n",
      "((0, 0, 0), np.int64(1))\n",
      "((0, 0, 1), np.int64(2))\n",
      "((0, 1, 0), np.int64(3))\n",
      "((0, 1, 1), np.int64(4))\n",
      "((1, 0, 0), np.int64(5))\n",
      "((1, 0, 1), np.int64(6))\n",
      "((1, 1, 0), np.int64(7))\n",
      "((1, 1, 1), np.int64(8))\n",
      "((2, 0, 0), np.int64(9))\n",
      "((2, 0, 1), np.int64(12))\n",
      "((2, 1, 0), np.int64(13))\n",
      "((2, 1, 1), np.int64(14))\n"
     ]
    }
   ],
   "source": [
    "# ITERATION WITH ndenumerate() it gives indexing along with value\n",
    "print(a3d)\n",
    "print()\n",
    "\n",
    "for i in np.ndenumerate(a3d):\n",
    "    print(i)"
   ]
  },
  {
   "cell_type": "code",
   "execution_count": null,
   "metadata": {},
   "outputs": [],
   "source": []
  },
  {
   "cell_type": "code",
   "execution_count": null,
   "metadata": {},
   "outputs": [],
   "source": []
  }
 ],
 "metadata": {
  "kernelspec": {
   "display_name": "Python 3",
   "language": "python",
   "name": "python3"
  },
  "language_info": {
   "codemirror_mode": {
    "name": "ipython",
    "version": 3
   },
   "file_extension": ".py",
   "mimetype": "text/x-python",
   "name": "python",
   "nbconvert_exporter": "python",
   "pygments_lexer": "ipython3",
   "version": "3.12.2"
  }
 },
 "nbformat": 4,
 "nbformat_minor": 2
}
