{
 "cells": [
  {
   "cell_type": "markdown",
   "metadata": {},
   "source": [
    "arithmetic operation in numpy"
   ]
  },
  {
   "cell_type": "markdown",
   "metadata": {},
   "source": [
    "we can perform arithmetic operation in three ways:\n",
    "1. directly add from arr1\n",
    "2. make two array and directly add these two\n",
    "3. use np.add,np.mod,np.divide "
   ]
  },
  {
   "cell_type": "code",
   "execution_count": 1,
   "metadata": {},
   "outputs": [],
   "source": [
    "import numpy as np"
   ]
  },
  {
   "cell_type": "code",
   "execution_count": 2,
   "metadata": {},
   "outputs": [
    {
     "name": "stdout",
     "output_type": "stream",
     "text": [
      "[13 23 33 43 53]\n",
      "[ 7 17 27 37 47]\n",
      "[1 2 0 1 2]\n",
      "[ 3.33333333  6.66666667 10.         13.33333333 16.66666667]\n",
      "[  1000   8000  27000  64000 125000]\n",
      "[0.1        0.05       0.03333333 0.025      0.02      ]\n",
      "[ 30  60  90 120 150]\n"
     ]
    }
   ],
   "source": [
    "arr1=np.array([10,20,30,40,50])\n",
    "add=arr1+3\n",
    "sub=arr1-3\n",
    "mod=arr1%3\n",
    "divide=arr1/3\n",
    "power=arr1**3\n",
    "multiply=arr1*3\n",
    "reciprocal=1/arr1\n",
    "print(add)\n",
    "print(sub)\n",
    "print(mod)\n",
    "print(divide)\n",
    "print(power)\n",
    "print(reciprocal)\n",
    "print(multiply)"
   ]
  },
  {
   "cell_type": "code",
   "execution_count": 17,
   "metadata": {},
   "outputs": [
    {
     "name": "stdout",
     "output_type": "stream",
     "text": [
      "[[11 22 33 44]\n",
      " [13 15 17 15]]\n"
     ]
    }
   ],
   "source": [
    "arr2=np.array([[1,2,3,4],[6,7,8,9]] )\n",
    "arr3=np.array([[10,20,30,40],[7,8,9,6]] )\n",
    "new=arr2+arr3\n",
    "print(new)"
   ]
  },
  {
   "cell_type": "code",
   "execution_count": 6,
   "metadata": {},
   "outputs": [
    {
     "name": "stdout",
     "output_type": "stream",
     "text": [
      "[[[ -9 -18 -27 -36]]]\n",
      "[[[              1         1048576 205891132094649               0]]]\n",
      "[[[1 2 3 4]]]\n"
     ]
    }
   ],
   "source": [
    "new1=arr2-arr3\n",
    "new2=arr2**arr3\n",
    "new3=arr2%arr3\n",
    "print(new1)\n",
    "print(new2)\n",
    "print(new3)\n"
   ]
  },
  {
   "cell_type": "code",
   "execution_count": 7,
   "metadata": {},
   "outputs": [
    {
     "name": "stdout",
     "output_type": "stream",
     "text": [
      "[                  1       1099511627776 6048575297968530377\n",
      "                   0]\n"
     ]
    }
   ],
   "source": [
    "ary=np.array([1,2,3,4])\n",
    "ary1=np.array([30,40,50,60])\n",
    "power=np.power(ary,ary1)\n",
    "print(power)"
   ]
  },
  {
   "cell_type": "code",
   "execution_count": 8,
   "metadata": {},
   "outputs": [
    {
     "name": "stdout",
     "output_type": "stream",
     "text": [
      "[1 0 0 0]\n"
     ]
    }
   ],
   "source": [
    "reciprocal=np.reciprocal(ary)\n",
    "print(reciprocal)"
   ]
  },
  {
   "cell_type": "code",
   "execution_count": null,
   "metadata": {},
   "outputs": [],
   "source": []
  },
  {
   "cell_type": "code",
   "execution_count": null,
   "metadata": {},
   "outputs": [],
   "source": []
  }
 ],
 "metadata": {
  "kernelspec": {
   "display_name": "Python 3",
   "language": "python",
   "name": "python3"
  },
  "language_info": {
   "codemirror_mode": {
    "name": "ipython",
    "version": 3
   },
   "file_extension": ".py",
   "mimetype": "text/x-python",
   "name": "python",
   "nbconvert_exporter": "python",
   "pygments_lexer": "ipython3",
   "version": "3.12.2"
  }
 },
 "nbformat": 4,
 "nbformat_minor": 2
}
