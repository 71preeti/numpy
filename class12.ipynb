{
 "cells": [
  {
   "cell_type": "markdown",
   "metadata": {},
   "source": [
    "JOIN AND SPLIT NUMPY ARRAY:\n",
    "1. for join two array we use concatenate () and stack ()function.\n",
    "a.. concatenate function m app axis bhi de skte h  like np.concatenate((a,b),axis=0).\n",
    "b.. stack m 3 hote h   1.np.vstack = column m join krna.\n",
    "2. hstack= row m join krna .\n",
    "3. dstack= height ke along join krna \n",
    "\n",
    "............ split()= used to break 1 array in multiple array.\n",
    "1. split () apka array function h like np.array_split(a,3,axis=0)\n",
    "2. split hone ke bad array list m convert ho jata h ."
   ]
  },
  {
   "cell_type": "code",
   "execution_count": 1,
   "metadata": {},
   "outputs": [],
   "source": [
    "import numpy as np"
   ]
  },
  {
   "cell_type": "code",
   "execution_count": 6,
   "metadata": {},
   "outputs": [
    {
     "data": {
      "text/plain": [
       "array([1, 2, 3, 4, 5, 4, 5, 6, 7, 8])"
      ]
     },
     "execution_count": 6,
     "metadata": {},
     "output_type": "execute_result"
    }
   ],
   "source": [
    "arr1=np.array([1,2,3,4,5])       # in 1 d\n",
    "arr2=np.array([4,5,6,7,8])\n",
    "con_arr=np.concatenate((arr1,arr2),axis=0)\n",
    "con_arr"
   ]
  },
  {
   "cell_type": "code",
   "execution_count": 7,
   "metadata": {},
   "outputs": [
    {
     "name": "stdout",
     "output_type": "stream",
     "text": [
      "[[1 2 3]\n",
      " [4 5 6]]\n",
      "\n",
      "[[6 5 4]\n",
      " [8 1 2]]\n",
      "\n",
      "[[1 2 3 6 5 4]\n",
      " [4 5 6 8 1 2]]\n"
     ]
    }
   ],
   "source": [
    "x= np.array([[1,2,3],[4,5,6]])\n",
    "y= np .array([[6,5,4],[8,1,2]])\n",
    "print(x)\n",
    "print()         # axis=1 means x axis\n",
    "print(y)\n",
    "print()\n",
    "join=np.concatenate((x,y),axis=1)\n",
    "print(join)\n"
   ]
  },
  {
   "cell_type": "code",
   "execution_count": 8,
   "metadata": {},
   "outputs": [
    {
     "name": "stdout",
     "output_type": "stream",
     "text": [
      "[[1 2 3]\n",
      " [4 5 6]]\n",
      "\n",
      "[[6 5 4]\n",
      " [8 1 2]]\n",
      "\n",
      "[[1 2 3]\n",
      " [4 5 6]\n",
      " [6 5 4]\n",
      " [8 1 2]]\n"
     ]
    }
   ],
   "source": [
    "x= np.array([[1,2,3],[4,5,6]])\n",
    "y= np .array([[6,5,4],[8,1,2]])\n",
    "print(x)\n",
    "print()\n",
    "print(y)         # axis = 0 means y axis\n",
    "print()\n",
    "join=np.concatenate((x,y),axis=0)\n",
    "print(join)"
   ]
  },
  {
   "cell_type": "code",
   "execution_count": 15,
   "metadata": {},
   "outputs": [
    {
     "name": "stdout",
     "output_type": "stream",
     "text": [
      "stack :  [[[10 20 30]\n",
      "  [ 1  4  5]]\n",
      "\n",
      " [[40 50 60]\n",
      "  [ 6  2  3]]]\n",
      "\n",
      "hstack :  [[10 20 30  1  4  5]\n",
      " [40 50 60  6  2  3]]\n",
      "\n",
      "vstack :  [[10 20 30]\n",
      " [40 50 60]\n",
      " [ 1  4  5]\n",
      " [ 6  2  3]]\n",
      "\n",
      "dstack :  [[[10  1]\n",
      "  [20  4]\n",
      "  [30  5]]\n",
      "\n",
      " [[40  6]\n",
      "  [50  2]\n",
      "  [60  3]]]\n"
     ]
    }
   ],
   "source": [
    "# stack ()\n",
    "a=np.array([[10,20,30],[40,50,60]])\n",
    "b= np.array([[1,4,5],[6,2,3]])\n",
    "join1=np.stack((a,b),axis=1)\n",
    "print( \"stack : \",join1)\n",
    "print()\n",
    "row=np.hstack((a,b))\n",
    "print( \"hstack : \",row)\n",
    "print()\n",
    "column=np.vstack((a,b))\n",
    "print(\"vstack : \",column)\n",
    "print()\n",
    "height=np.dstack((a,b))\n",
    "print(\"dstack : \",height)"
   ]
  },
  {
   "cell_type": "markdown",
   "metadata": {},
   "source": [
    "SPLIT\n"
   ]
  },
  {
   "cell_type": "code",
   "execution_count": 22,
   "metadata": {},
   "outputs": [
    {
     "name": "stdout",
     "output_type": "stream",
     "text": [
      "[array([1, 2]), array([3, 4]), array([5]), array([6])]\n",
      "\n",
      "datatype of 4 split arrays: <class 'list'>\n",
      "\n",
      "[3 4]\n"
     ]
    }
   ],
   "source": [
    "a=np.array([1,2,3,4,5,6])\n",
    "split_array=np.array_split(a,4,axis=0)\n",
    "print(split_array)   # same for 2d array\n",
    "print()\n",
    "print(\"datatype of 4 split arrays:\", type(split_array))\n",
    "print()\n",
    "print(split_array[1])"
   ]
  },
  {
   "cell_type": "code",
   "execution_count": 30,
   "metadata": {},
   "outputs": [
    {
     "name": "stdout",
     "output_type": "stream",
     "text": [
      "[array([[1],\n",
      "       [3],\n",
      "       [5]]), array([[2],\n",
      "       [4],\n",
      "       [6]]), array([], shape=(3, 0), dtype=int64)]\n",
      "\n",
      "datatype of 4 split arrays: <class 'list'>\n",
      "\n",
      "[[2]\n",
      " [4]\n",
      " [6]]\n"
     ]
    }
   ],
   "source": [
    "a=np.array([[1,2],[3,4],[5,6]])\n",
    "split_array=np.array_split(a,3 ,axis=1)\n",
    "print(split_array)  \n",
    "print()\n",
    "print(\"datatype of 4 split arrays:\", type(split_array))\n",
    "print()\n",
    "print(split_array[1])"
   ]
  },
  {
   "cell_type": "code",
   "execution_count": null,
   "metadata": {},
   "outputs": [],
   "source": []
  },
  {
   "cell_type": "code",
   "execution_count": null,
   "metadata": {},
   "outputs": [],
   "source": []
  },
  {
   "cell_type": "code",
   "execution_count": null,
   "metadata": {},
   "outputs": [],
   "source": []
  },
  {
   "cell_type": "code",
   "execution_count": null,
   "metadata": {},
   "outputs": [],
   "source": []
  },
  {
   "cell_type": "code",
   "execution_count": null,
   "metadata": {},
   "outputs": [],
   "source": []
  },
  {
   "cell_type": "code",
   "execution_count": null,
   "metadata": {},
   "outputs": [],
   "source": []
  }
 ],
 "metadata": {
  "kernelspec": {
   "display_name": "Python 3",
   "language": "python",
   "name": "python3"
  },
  "language_info": {
   "codemirror_mode": {
    "name": "ipython",
    "version": 3
   },
   "file_extension": ".py",
   "mimetype": "text/x-python",
   "name": "python",
   "nbconvert_exporter": "python",
   "pygments_lexer": "ipython3",
   "version": "3.12.2"
  }
 },
 "nbformat": 4,
 "nbformat_minor": 2
}
