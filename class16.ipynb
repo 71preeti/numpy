{
 "cells": [
  {
   "cell_type": "markdown",
   "metadata": {},
   "source": [
    "MATRIX IN NUMPY:  "
   ]
  },
  {
   "cell_type": "markdown",
   "metadata": {},
   "source": [
    "MATRIX AND ARRAY M DIFFERENCER M UNKE MULTIPLY KE BASISI PR KR SKTE H . IN MATRIX WE USE DOT () FUNCTION FOR PRODUCT OF TWO MATRIX."
   ]
  },
  {
   "cell_type": "code",
   "execution_count": 1,
   "metadata": {},
   "outputs": [],
   "source": [
    "import numpy as np"
   ]
  },
  {
   "cell_type": "code",
   "execution_count": 4,
   "metadata": {},
   "outputs": [
    {
     "name": "stdout",
     "output_type": "stream",
     "text": [
      "[[1 2]\n",
      " [1 2]]\n",
      "\n",
      "<class 'numpy.matrix'>\n"
     ]
    }
   ],
   "source": [
    "mat=np.matrix([[1,2],[1,2]])\n",
    "print(mat)\n",
    "print()\n",
    "print(type(mat))"
   ]
  },
  {
   "cell_type": "code",
   "execution_count": 5,
   "metadata": {},
   "outputs": [
    {
     "name": "stdout",
     "output_type": "stream",
     "text": [
      "[[1 2]\n",
      " [1 2]]\n",
      "\n",
      "<class 'numpy.ndarray'>\n"
     ]
    }
   ],
   "source": [
    "arr=np.array([[1,2],[1,2]])\n",
    "print(arr)\n",
    "print()\n",
    "print(type(arr))           "
   ]
  },
  {
   "cell_type": "code",
   "execution_count": 6,
   "metadata": {},
   "outputs": [
    {
     "name": "stdout",
     "output_type": "stream",
     "text": [
      "[[7 2]\n",
      " [1 4]]\n",
      "[[6 2]\n",
      " [1 8]]\n"
     ]
    }
   ],
   "source": [
    "mat1=np.matrix([[7,2],[1,4]])\n",
    "mat2=np.matrix([[6,2],[1,8]])\n",
    "print(mat1)\n",
    "print(mat2)"
   ]
  },
  {
   "cell_type": "code",
   "execution_count": 20,
   "metadata": {},
   "outputs": [
    {
     "name": "stdout",
     "output_type": "stream",
     "text": [
      "[[13  4]\n",
      " [ 2 12]]\n",
      "\n",
      "[[ 1  0]\n",
      " [ 0 -4]]\n",
      "\n",
      "[[44 30]\n",
      " [10 34]]\n"
     ]
    }
   ],
   "source": [
    "# operations on matrix \n",
    "add=np.add(mat1,mat2)\n",
    "print(add)\n",
    "print()\n",
    "s=np.subtract(mat1,mat2)\n",
    "print(s)\n",
    "print()\n",
    "product=np.dot(mat1,mat2)    # difference between matrix and array see here\n",
    "print(product)"
   ]
  },
  {
   "cell_type": "code",
   "execution_count": 12,
   "metadata": {},
   "outputs": [
    {
     "name": "stdout",
     "output_type": "stream",
     "text": [
      "[[7 2]\n",
      " [1 4]]\n",
      "[[6 2]\n",
      " [1 8]]\n"
     ]
    }
   ],
   "source": [
    "# operations on array\n",
    "arr1=np.array([[7,2],[1,4]])\n",
    "arr2=np.array([[6,2],[1,8]])\n",
    "print(arr1)\n",
    "print(arr2)"
   ]
  },
  {
   "cell_type": "code",
   "execution_count": 23,
   "metadata": {},
   "outputs": [
    {
     "name": "stdout",
     "output_type": "stream",
     "text": [
      "[[13  4]\n",
      " [ 2 12]]\n",
      "\n",
      "[[ 1  0]\n",
      " [ 0 -4]]\n",
      "\n",
      "[[42  4]\n",
      " [ 1 32]]\n"
     ]
    }
   ],
   "source": [
    "# operations on array\n",
    "a=np.add(arr1,arr2)\n",
    "print(a)\n",
    "print()\n",
    "s1=np.subtract(arr1,arr2)\n",
    "print(s1)\n",
    "print()\n",
    "product1=np.multiply(arr1,arr2)           # difference between matrix and array see here\n",
    "print(product1)"
   ]
  },
  {
   "cell_type": "code",
   "execution_count": null,
   "metadata": {},
   "outputs": [],
   "source": []
  },
  {
   "cell_type": "code",
   "execution_count": null,
   "metadata": {},
   "outputs": [],
   "source": []
  },
  {
   "cell_type": "code",
   "execution_count": null,
   "metadata": {},
   "outputs": [],
   "source": []
  }
 ],
 "metadata": {
  "kernelspec": {
   "display_name": "Python 3",
   "language": "python",
   "name": "python3"
  },
  "language_info": {
   "codemirror_mode": {
    "name": "ipython",
    "version": 3
   },
   "file_extension": ".py",
   "mimetype": "text/x-python",
   "name": "python",
   "nbconvert_exporter": "python",
   "pygments_lexer": "ipython3",
   "version": "3.12.2"
  }
 },
 "nbformat": 4,
 "nbformat_minor": 2
}
